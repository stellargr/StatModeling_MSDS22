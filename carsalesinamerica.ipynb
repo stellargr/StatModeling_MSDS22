{
  "cells": [
    {
      "cell_type": "markdown",
      "metadata": {
        "id": "view-in-github",
        "colab_type": "text"
      },
      "source": [
        "<a href=\"https://colab.research.google.com/github/stellargr/StatModeling_MSDS22/blob/main/carsalesinamerica.ipynb\" target=\"_parent\"><img src=\"https://colab.research.google.com/assets/colab-badge.svg\" alt=\"Open In Colab\"/></a>"
      ]
    },
    {
      "cell_type": "markdown",
      "id": "b240a234",
      "metadata": {
        "id": "b240a234"
      },
      "source": [
        "# Assignment"
      ]
    },
    {
      "cell_type": "markdown",
      "id": "f2a3a3f9",
      "metadata": {
        "id": "f2a3a3f9"
      },
      "source": [
        "### Name: Stella Voutsina hw2"
      ]
    },
    {
      "cell_type": "code",
      "execution_count": null,
      "id": "87293d1f",
      "metadata": {
        "id": "87293d1f"
      },
      "outputs": [],
      "source": [
        "# Importing the libraries\n",
        "import pandas as pd\n",
        "import numpy as np\n",
        "import matplotlib.pyplot as plt\n",
        "from sklearn.preprocessing import StandardScaler\n",
        "from sklearn.neighbors import KNeighborsClassifier\n",
        "from statsmodels.formula.api import ols\n",
        "import seaborn as sns\n",
        "from sklearn.model_selection import train_test_split\n",
        "from sklearn.linear_model import LogisticRegression\n",
        "from sklearn.metrics import accuracy_score\n",
        "from sklearn.model_selection import cross_validate\n",
        "from sklearn.metrics import confusion_matrix, classification_report\n"
      ]
    },
    {
      "cell_type": "code",
      "execution_count": null,
      "id": "5d04134b",
      "metadata": {
        "id": "5d04134b",
        "outputId": "e3d3c1f7-1164-4da4-b79d-2de4ecb28866"
      },
      "outputs": [
        {
          "data": {
            "text/html": [
              "<div>\n",
              "<style scoped>\n",
              "    .dataframe tbody tr th:only-of-type {\n",
              "        vertical-align: middle;\n",
              "    }\n",
              "\n",
              "    .dataframe tbody tr th {\n",
              "        vertical-align: top;\n",
              "    }\n",
              "\n",
              "    .dataframe thead th {\n",
              "        text-align: right;\n",
              "    }\n",
              "</style>\n",
              "<table border=\"1\" class=\"dataframe\">\n",
              "  <thead>\n",
              "    <tr style=\"text-align: right;\">\n",
              "      <th></th>\n",
              "      <th>Sales</th>\n",
              "      <th>CompPrice</th>\n",
              "      <th>Income</th>\n",
              "      <th>Advertising</th>\n",
              "      <th>Population</th>\n",
              "      <th>Price</th>\n",
              "      <th>ShelveLoc</th>\n",
              "      <th>Age</th>\n",
              "      <th>Education</th>\n",
              "      <th>Urban</th>\n",
              "      <th>US</th>\n",
              "    </tr>\n",
              "  </thead>\n",
              "  <tbody>\n",
              "    <tr>\n",
              "      <th>0</th>\n",
              "      <td>9.50</td>\n",
              "      <td>138</td>\n",
              "      <td>73</td>\n",
              "      <td>11</td>\n",
              "      <td>276</td>\n",
              "      <td>120</td>\n",
              "      <td>Bad</td>\n",
              "      <td>42</td>\n",
              "      <td>17</td>\n",
              "      <td>Yes</td>\n",
              "      <td>Yes</td>\n",
              "    </tr>\n",
              "    <tr>\n",
              "      <th>1</th>\n",
              "      <td>11.22</td>\n",
              "      <td>111</td>\n",
              "      <td>48</td>\n",
              "      <td>16</td>\n",
              "      <td>260</td>\n",
              "      <td>83</td>\n",
              "      <td>Good</td>\n",
              "      <td>65</td>\n",
              "      <td>10</td>\n",
              "      <td>Yes</td>\n",
              "      <td>Yes</td>\n",
              "    </tr>\n",
              "    <tr>\n",
              "      <th>2</th>\n",
              "      <td>10.06</td>\n",
              "      <td>113</td>\n",
              "      <td>35</td>\n",
              "      <td>10</td>\n",
              "      <td>269</td>\n",
              "      <td>80</td>\n",
              "      <td>Medium</td>\n",
              "      <td>59</td>\n",
              "      <td>12</td>\n",
              "      <td>Yes</td>\n",
              "      <td>Yes</td>\n",
              "    </tr>\n",
              "    <tr>\n",
              "      <th>3</th>\n",
              "      <td>7.40</td>\n",
              "      <td>117</td>\n",
              "      <td>100</td>\n",
              "      <td>4</td>\n",
              "      <td>466</td>\n",
              "      <td>97</td>\n",
              "      <td>Medium</td>\n",
              "      <td>55</td>\n",
              "      <td>14</td>\n",
              "      <td>Yes</td>\n",
              "      <td>Yes</td>\n",
              "    </tr>\n",
              "    <tr>\n",
              "      <th>4</th>\n",
              "      <td>4.15</td>\n",
              "      <td>141</td>\n",
              "      <td>64</td>\n",
              "      <td>3</td>\n",
              "      <td>340</td>\n",
              "      <td>128</td>\n",
              "      <td>Bad</td>\n",
              "      <td>38</td>\n",
              "      <td>13</td>\n",
              "      <td>Yes</td>\n",
              "      <td>No</td>\n",
              "    </tr>\n",
              "  </tbody>\n",
              "</table>\n",
              "</div>"
            ],
            "text/plain": [
              "   Sales  CompPrice  Income  Advertising  Population  Price ShelveLoc  Age  \\\n",
              "0   9.50        138      73           11         276    120       Bad   42   \n",
              "1  11.22        111      48           16         260     83      Good   65   \n",
              "2  10.06        113      35           10         269     80    Medium   59   \n",
              "3   7.40        117     100            4         466     97    Medium   55   \n",
              "4   4.15        141      64            3         340    128       Bad   38   \n",
              "\n",
              "   Education Urban   US  \n",
              "0         17   Yes  Yes  \n",
              "1         10   Yes  Yes  \n",
              "2         12   Yes  Yes  \n",
              "3         14   Yes  Yes  \n",
              "4         13   Yes   No  "
            ]
          },
          "execution_count": 2,
          "metadata": {},
          "output_type": "execute_result"
        }
      ],
      "source": [
        "# Importing the data\n",
        "dataset = pd.read_csv(\"carseats.csv\")\n",
        "dataset.head()"
      ]
    },
    {
      "cell_type": "code",
      "execution_count": null,
      "id": "9c7fd453",
      "metadata": {
        "id": "9c7fd453",
        "outputId": "59eaa555-16f9-46c2-84ab-3e46d2721970"
      },
      "outputs": [
        {
          "data": {
            "text/plain": [
              "Index(['Sales', 'CompPrice', 'Income', 'Advertising', 'Population', 'Price',\n",
              "       'ShelveLoc', 'Age', 'Education', 'Urban', 'US'],\n",
              "      dtype='object')"
            ]
          },
          "execution_count": 3,
          "metadata": {},
          "output_type": "execute_result"
        }
      ],
      "source": [
        "dataset.columns"
      ]
    },
    {
      "cell_type": "markdown",
      "id": "98c3a170",
      "metadata": {
        "id": "98c3a170"
      },
      "source": [
        "The dataset has 11 columns of which the first column (Sales) will be converted to a categorical feature (Class)."
      ]
    },
    {
      "cell_type": "markdown",
      "id": "5bc0bad5",
      "metadata": {
        "id": "5bc0bad5"
      },
      "source": [
        "### Creating the Class Column from the Sales column"
      ]
    },
    {
      "cell_type": "code",
      "execution_count": null,
      "id": "a787348a",
      "metadata": {
        "id": "a787348a",
        "outputId": "b71813a5-8b57-4ef6-f6f8-800051a5cadb"
      },
      "outputs": [
        {
          "data": {
            "text/html": [
              "<div>\n",
              "<style scoped>\n",
              "    .dataframe tbody tr th:only-of-type {\n",
              "        vertical-align: middle;\n",
              "    }\n",
              "\n",
              "    .dataframe tbody tr th {\n",
              "        vertical-align: top;\n",
              "    }\n",
              "\n",
              "    .dataframe thead th {\n",
              "        text-align: right;\n",
              "    }\n",
              "</style>\n",
              "<table border=\"1\" class=\"dataframe\">\n",
              "  <thead>\n",
              "    <tr style=\"text-align: right;\">\n",
              "      <th></th>\n",
              "      <th>Sales</th>\n",
              "      <th>CompPrice</th>\n",
              "      <th>Income</th>\n",
              "      <th>Advertising</th>\n",
              "      <th>Population</th>\n",
              "      <th>Price</th>\n",
              "      <th>ShelveLoc</th>\n",
              "      <th>Age</th>\n",
              "      <th>Education</th>\n",
              "      <th>Urban</th>\n",
              "      <th>US</th>\n",
              "      <th>Class</th>\n",
              "    </tr>\n",
              "  </thead>\n",
              "  <tbody>\n",
              "    <tr>\n",
              "      <th>0</th>\n",
              "      <td>9.50</td>\n",
              "      <td>138</td>\n",
              "      <td>73</td>\n",
              "      <td>11</td>\n",
              "      <td>276</td>\n",
              "      <td>120</td>\n",
              "      <td>Bad</td>\n",
              "      <td>42</td>\n",
              "      <td>17</td>\n",
              "      <td>Yes</td>\n",
              "      <td>Yes</td>\n",
              "      <td>1</td>\n",
              "    </tr>\n",
              "    <tr>\n",
              "      <th>1</th>\n",
              "      <td>11.22</td>\n",
              "      <td>111</td>\n",
              "      <td>48</td>\n",
              "      <td>16</td>\n",
              "      <td>260</td>\n",
              "      <td>83</td>\n",
              "      <td>Good</td>\n",
              "      <td>65</td>\n",
              "      <td>10</td>\n",
              "      <td>Yes</td>\n",
              "      <td>Yes</td>\n",
              "      <td>1</td>\n",
              "    </tr>\n",
              "    <tr>\n",
              "      <th>2</th>\n",
              "      <td>10.06</td>\n",
              "      <td>113</td>\n",
              "      <td>35</td>\n",
              "      <td>10</td>\n",
              "      <td>269</td>\n",
              "      <td>80</td>\n",
              "      <td>Medium</td>\n",
              "      <td>59</td>\n",
              "      <td>12</td>\n",
              "      <td>Yes</td>\n",
              "      <td>Yes</td>\n",
              "      <td>1</td>\n",
              "    </tr>\n",
              "    <tr>\n",
              "      <th>3</th>\n",
              "      <td>7.40</td>\n",
              "      <td>117</td>\n",
              "      <td>100</td>\n",
              "      <td>4</td>\n",
              "      <td>466</td>\n",
              "      <td>97</td>\n",
              "      <td>Medium</td>\n",
              "      <td>55</td>\n",
              "      <td>14</td>\n",
              "      <td>Yes</td>\n",
              "      <td>Yes</td>\n",
              "      <td>0</td>\n",
              "    </tr>\n",
              "    <tr>\n",
              "      <th>4</th>\n",
              "      <td>4.15</td>\n",
              "      <td>141</td>\n",
              "      <td>64</td>\n",
              "      <td>3</td>\n",
              "      <td>340</td>\n",
              "      <td>128</td>\n",
              "      <td>Bad</td>\n",
              "      <td>38</td>\n",
              "      <td>13</td>\n",
              "      <td>Yes</td>\n",
              "      <td>No</td>\n",
              "      <td>0</td>\n",
              "    </tr>\n",
              "  </tbody>\n",
              "</table>\n",
              "</div>"
            ],
            "text/plain": [
              "   Sales  CompPrice  Income  Advertising  Population  Price ShelveLoc  Age  \\\n",
              "0   9.50        138      73           11         276    120       Bad   42   \n",
              "1  11.22        111      48           16         260     83      Good   65   \n",
              "2  10.06        113      35           10         269     80    Medium   59   \n",
              "3   7.40        117     100            4         466     97    Medium   55   \n",
              "4   4.15        141      64            3         340    128       Bad   38   \n",
              "\n",
              "   Education Urban   US  Class  \n",
              "0         17   Yes  Yes      1  \n",
              "1         10   Yes  Yes      1  \n",
              "2         12   Yes  Yes      1  \n",
              "3         14   Yes  Yes      0  \n",
              "4         13   Yes   No      0  "
            ]
          },
          "execution_count": 4,
          "metadata": {},
          "output_type": "execute_result"
        }
      ],
      "source": [
        "# Create the class column from the sales column based on specified conditions\n",
        "# if sales >= 8 then class = 1 else class = 0\n",
        "\n",
        "dataset[\"Class\"] = np.where(dataset[\"Sales\"]>= 8, 1, 0)\n",
        "dataset.head()"
      ]
    },
    {
      "cell_type": "code",
      "execution_count": null,
      "id": "20a4ccec",
      "metadata": {
        "id": "20a4ccec"
      },
      "outputs": [],
      "source": [
        "# Dropping the Sales column\n",
        "dataset.drop(\"Sales\", axis = 1, inplace = True)"
      ]
    },
    {
      "cell_type": "markdown",
      "id": "2623795c",
      "metadata": {
        "id": "2623795c"
      },
      "source": [
        "### Preprocessing the Data"
      ]
    },
    {
      "cell_type": "code",
      "execution_count": null,
      "id": "caed7362",
      "metadata": {
        "id": "caed7362",
        "outputId": "a2c29063-1acd-4276-f1b5-062e0604416d"
      },
      "outputs": [
        {
          "data": {
            "text/plain": [
              "CompPrice      0\n",
              "Income         0\n",
              "Advertising    0\n",
              "Population     0\n",
              "Price          0\n",
              "ShelveLoc      0\n",
              "Age            0\n",
              "Education      0\n",
              "Urban          0\n",
              "US             0\n",
              "Class          0\n",
              "dtype: int64"
            ]
          },
          "execution_count": 6,
          "metadata": {},
          "output_type": "execute_result"
        }
      ],
      "source": [
        "# Checking for missing values\n",
        "dataset.isna().sum()"
      ]
    },
    {
      "cell_type": "markdown",
      "id": "13ef2149",
      "metadata": {
        "id": "13ef2149"
      },
      "source": [
        "The dataset has no missing values"
      ]
    },
    {
      "cell_type": "code",
      "execution_count": null,
      "id": "aa306ee4",
      "metadata": {
        "id": "aa306ee4",
        "outputId": "8b407675-dd86-4468-ab32-99614717bd77"
      },
      "outputs": [
        {
          "data": {
            "text/plain": [
              "CompPrice       int64\n",
              "Income          int64\n",
              "Advertising     int64\n",
              "Population      int64\n",
              "Price           int64\n",
              "ShelveLoc      object\n",
              "Age             int64\n",
              "Education       int64\n",
              "Urban          object\n",
              "US             object\n",
              "Class           int32\n",
              "dtype: object"
            ]
          },
          "execution_count": 7,
          "metadata": {},
          "output_type": "execute_result"
        }
      ],
      "source": [
        "# Exploring the feature types\n",
        "dataset.dtypes"
      ]
    },
    {
      "cell_type": "markdown",
      "id": "49f12a37",
      "metadata": {
        "id": "49f12a37"
      },
      "source": [
        "The features \"ShelveLoc\", \"Urban\", and \"US\" are all categorical features."
      ]
    },
    {
      "cell_type": "code",
      "execution_count": null,
      "id": "f67d5baa",
      "metadata": {
        "id": "f67d5baa",
        "outputId": "d889727e-07cb-49f8-8b7b-293ecd40b0bc"
      },
      "outputs": [
        {
          "name": "stdout",
          "output_type": "stream",
          "text": [
            "Medium    219\n",
            "Bad        96\n",
            "Good       85\n",
            "Name: ShelveLoc, dtype: int64\n",
            "\n",
            "Yes    282\n",
            "No     118\n",
            "Name: Urban, dtype: int64\n",
            "\n",
            "Yes    258\n",
            "No     142\n",
            "Name: US, dtype: int64\n",
            "\n"
          ]
        }
      ],
      "source": [
        "# Checking the number of categories in the categorical variables\n",
        "categorical_variables = [\"ShelveLoc\", \"Urban\", \"US\"]\n",
        "for categorical_variable in categorical_variables:\n",
        "    print(dataset[categorical_variable].value_counts())\n",
        "    print()"
      ]
    },
    {
      "cell_type": "markdown",
      "id": "ec4246b4",
      "metadata": {
        "id": "ec4246b4"
      },
      "source": [
        "\"ShelveLoc\" has 3 categories - Bad, Medium and Good <br>\n",
        "\"Urban\" has 2 categories - Yes, No <br>\n",
        "\"US\" has 2 categories - Yes, No <br>"
      ]
    },
    {
      "cell_type": "markdown",
      "id": "e5621c10",
      "metadata": {
        "id": "e5621c10"
      },
      "source": [
        "### One Hot Encoding the Categorical variables"
      ]
    },
    {
      "cell_type": "code",
      "execution_count": null,
      "id": "c1c8694b",
      "metadata": {
        "id": "c1c8694b",
        "outputId": "552e204a-2b59-49f7-f759-50ba0af2b809"
      },
      "outputs": [
        {
          "data": {
            "text/html": [
              "<div>\n",
              "<style scoped>\n",
              "    .dataframe tbody tr th:only-of-type {\n",
              "        vertical-align: middle;\n",
              "    }\n",
              "\n",
              "    .dataframe tbody tr th {\n",
              "        vertical-align: top;\n",
              "    }\n",
              "\n",
              "    .dataframe thead th {\n",
              "        text-align: right;\n",
              "    }\n",
              "</style>\n",
              "<table border=\"1\" class=\"dataframe\">\n",
              "  <thead>\n",
              "    <tr style=\"text-align: right;\">\n",
              "      <th></th>\n",
              "      <th>CompPrice</th>\n",
              "      <th>Income</th>\n",
              "      <th>Advertising</th>\n",
              "      <th>Population</th>\n",
              "      <th>Price</th>\n",
              "      <th>Age</th>\n",
              "      <th>Education</th>\n",
              "      <th>ShelveLoc_Bad</th>\n",
              "      <th>ShelveLoc_Good</th>\n",
              "      <th>ShelveLoc_Medium</th>\n",
              "      <th>Urban_No</th>\n",
              "      <th>Urban_Yes</th>\n",
              "      <th>US_No</th>\n",
              "      <th>US_Yes</th>\n",
              "    </tr>\n",
              "  </thead>\n",
              "  <tbody>\n",
              "    <tr>\n",
              "      <th>0</th>\n",
              "      <td>138</td>\n",
              "      <td>73</td>\n",
              "      <td>11</td>\n",
              "      <td>276</td>\n",
              "      <td>120</td>\n",
              "      <td>42</td>\n",
              "      <td>17</td>\n",
              "      <td>1</td>\n",
              "      <td>0</td>\n",
              "      <td>0</td>\n",
              "      <td>0</td>\n",
              "      <td>1</td>\n",
              "      <td>0</td>\n",
              "      <td>1</td>\n",
              "    </tr>\n",
              "    <tr>\n",
              "      <th>1</th>\n",
              "      <td>111</td>\n",
              "      <td>48</td>\n",
              "      <td>16</td>\n",
              "      <td>260</td>\n",
              "      <td>83</td>\n",
              "      <td>65</td>\n",
              "      <td>10</td>\n",
              "      <td>0</td>\n",
              "      <td>1</td>\n",
              "      <td>0</td>\n",
              "      <td>0</td>\n",
              "      <td>1</td>\n",
              "      <td>0</td>\n",
              "      <td>1</td>\n",
              "    </tr>\n",
              "    <tr>\n",
              "      <th>2</th>\n",
              "      <td>113</td>\n",
              "      <td>35</td>\n",
              "      <td>10</td>\n",
              "      <td>269</td>\n",
              "      <td>80</td>\n",
              "      <td>59</td>\n",
              "      <td>12</td>\n",
              "      <td>0</td>\n",
              "      <td>0</td>\n",
              "      <td>1</td>\n",
              "      <td>0</td>\n",
              "      <td>1</td>\n",
              "      <td>0</td>\n",
              "      <td>1</td>\n",
              "    </tr>\n",
              "    <tr>\n",
              "      <th>3</th>\n",
              "      <td>117</td>\n",
              "      <td>100</td>\n",
              "      <td>4</td>\n",
              "      <td>466</td>\n",
              "      <td>97</td>\n",
              "      <td>55</td>\n",
              "      <td>14</td>\n",
              "      <td>0</td>\n",
              "      <td>0</td>\n",
              "      <td>1</td>\n",
              "      <td>0</td>\n",
              "      <td>1</td>\n",
              "      <td>0</td>\n",
              "      <td>1</td>\n",
              "    </tr>\n",
              "    <tr>\n",
              "      <th>4</th>\n",
              "      <td>141</td>\n",
              "      <td>64</td>\n",
              "      <td>3</td>\n",
              "      <td>340</td>\n",
              "      <td>128</td>\n",
              "      <td>38</td>\n",
              "      <td>13</td>\n",
              "      <td>1</td>\n",
              "      <td>0</td>\n",
              "      <td>0</td>\n",
              "      <td>0</td>\n",
              "      <td>1</td>\n",
              "      <td>1</td>\n",
              "      <td>0</td>\n",
              "    </tr>\n",
              "  </tbody>\n",
              "</table>\n",
              "</div>"
            ],
            "text/plain": [
              "   CompPrice  Income  Advertising  Population  Price  Age  Education  \\\n",
              "0        138      73           11         276    120   42         17   \n",
              "1        111      48           16         260     83   65         10   \n",
              "2        113      35           10         269     80   59         12   \n",
              "3        117     100            4         466     97   55         14   \n",
              "4        141      64            3         340    128   38         13   \n",
              "\n",
              "   ShelveLoc_Bad  ShelveLoc_Good  ShelveLoc_Medium  Urban_No  Urban_Yes  \\\n",
              "0              1               0                 0         0          1   \n",
              "1              0               1                 0         0          1   \n",
              "2              0               0                 1         0          1   \n",
              "3              0               0                 1         0          1   \n",
              "4              1               0                 0         0          1   \n",
              "\n",
              "   US_No  US_Yes  \n",
              "0      0       1  \n",
              "1      0       1  \n",
              "2      0       1  \n",
              "3      0       1  \n",
              "4      1       0  "
            ]
          },
          "execution_count": 9,
          "metadata": {},
          "output_type": "execute_result"
        }
      ],
      "source": [
        "# Creating categorical variables using the pd.get_dummies() function\n",
        "\"\"\"\n",
        "    A temporary dataframe was created for the one hot encoded result so that\n",
        "    the target variable \"Class\" can be added as the last column to follow conventions\n",
        "\"\"\"\n",
        "df = pd.get_dummies(dataset.iloc[:,:-1], columns = categorical_variables)\n",
        "df.head()"
      ]
    },
    {
      "cell_type": "code",
      "execution_count": null,
      "id": "3d0782e4",
      "metadata": {
        "id": "3d0782e4",
        "outputId": "fb30c92f-baaf-4acc-d6e9-b34bd214f1ad"
      },
      "outputs": [
        {
          "data": {
            "text/html": [
              "<div>\n",
              "<style scoped>\n",
              "    .dataframe tbody tr th:only-of-type {\n",
              "        vertical-align: middle;\n",
              "    }\n",
              "\n",
              "    .dataframe tbody tr th {\n",
              "        vertical-align: top;\n",
              "    }\n",
              "\n",
              "    .dataframe thead th {\n",
              "        text-align: right;\n",
              "    }\n",
              "</style>\n",
              "<table border=\"1\" class=\"dataframe\">\n",
              "  <thead>\n",
              "    <tr style=\"text-align: right;\">\n",
              "      <th></th>\n",
              "      <th>CompPrice</th>\n",
              "      <th>Income</th>\n",
              "      <th>Advertising</th>\n",
              "      <th>Population</th>\n",
              "      <th>Price</th>\n",
              "      <th>Age</th>\n",
              "      <th>Education</th>\n",
              "      <th>ShelveLoc_Bad</th>\n",
              "      <th>ShelveLoc_Good</th>\n",
              "      <th>ShelveLoc_Medium</th>\n",
              "      <th>Urban_No</th>\n",
              "      <th>Urban_Yes</th>\n",
              "      <th>US_No</th>\n",
              "      <th>US_Yes</th>\n",
              "      <th>Class</th>\n",
              "    </tr>\n",
              "  </thead>\n",
              "  <tbody>\n",
              "    <tr>\n",
              "      <th>0</th>\n",
              "      <td>138</td>\n",
              "      <td>73</td>\n",
              "      <td>11</td>\n",
              "      <td>276</td>\n",
              "      <td>120</td>\n",
              "      <td>42</td>\n",
              "      <td>17</td>\n",
              "      <td>1</td>\n",
              "      <td>0</td>\n",
              "      <td>0</td>\n",
              "      <td>0</td>\n",
              "      <td>1</td>\n",
              "      <td>0</td>\n",
              "      <td>1</td>\n",
              "      <td>1</td>\n",
              "    </tr>\n",
              "    <tr>\n",
              "      <th>1</th>\n",
              "      <td>111</td>\n",
              "      <td>48</td>\n",
              "      <td>16</td>\n",
              "      <td>260</td>\n",
              "      <td>83</td>\n",
              "      <td>65</td>\n",
              "      <td>10</td>\n",
              "      <td>0</td>\n",
              "      <td>1</td>\n",
              "      <td>0</td>\n",
              "      <td>0</td>\n",
              "      <td>1</td>\n",
              "      <td>0</td>\n",
              "      <td>1</td>\n",
              "      <td>1</td>\n",
              "    </tr>\n",
              "    <tr>\n",
              "      <th>2</th>\n",
              "      <td>113</td>\n",
              "      <td>35</td>\n",
              "      <td>10</td>\n",
              "      <td>269</td>\n",
              "      <td>80</td>\n",
              "      <td>59</td>\n",
              "      <td>12</td>\n",
              "      <td>0</td>\n",
              "      <td>0</td>\n",
              "      <td>1</td>\n",
              "      <td>0</td>\n",
              "      <td>1</td>\n",
              "      <td>0</td>\n",
              "      <td>1</td>\n",
              "      <td>1</td>\n",
              "    </tr>\n",
              "    <tr>\n",
              "      <th>3</th>\n",
              "      <td>117</td>\n",
              "      <td>100</td>\n",
              "      <td>4</td>\n",
              "      <td>466</td>\n",
              "      <td>97</td>\n",
              "      <td>55</td>\n",
              "      <td>14</td>\n",
              "      <td>0</td>\n",
              "      <td>0</td>\n",
              "      <td>1</td>\n",
              "      <td>0</td>\n",
              "      <td>1</td>\n",
              "      <td>0</td>\n",
              "      <td>1</td>\n",
              "      <td>0</td>\n",
              "    </tr>\n",
              "    <tr>\n",
              "      <th>4</th>\n",
              "      <td>141</td>\n",
              "      <td>64</td>\n",
              "      <td>3</td>\n",
              "      <td>340</td>\n",
              "      <td>128</td>\n",
              "      <td>38</td>\n",
              "      <td>13</td>\n",
              "      <td>1</td>\n",
              "      <td>0</td>\n",
              "      <td>0</td>\n",
              "      <td>0</td>\n",
              "      <td>1</td>\n",
              "      <td>1</td>\n",
              "      <td>0</td>\n",
              "      <td>0</td>\n",
              "    </tr>\n",
              "  </tbody>\n",
              "</table>\n",
              "</div>"
            ],
            "text/plain": [
              "   CompPrice  Income  Advertising  Population  Price  Age  Education  \\\n",
              "0        138      73           11         276    120   42         17   \n",
              "1        111      48           16         260     83   65         10   \n",
              "2        113      35           10         269     80   59         12   \n",
              "3        117     100            4         466     97   55         14   \n",
              "4        141      64            3         340    128   38         13   \n",
              "\n",
              "   ShelveLoc_Bad  ShelveLoc_Good  ShelveLoc_Medium  Urban_No  Urban_Yes  \\\n",
              "0              1               0                 0         0          1   \n",
              "1              0               1                 0         0          1   \n",
              "2              0               0                 1         0          1   \n",
              "3              0               0                 1         0          1   \n",
              "4              1               0                 0         0          1   \n",
              "\n",
              "   US_No  US_Yes  Class  \n",
              "0      0       1      1  \n",
              "1      0       1      1  \n",
              "2      0       1      1  \n",
              "3      0       1      0  \n",
              "4      1       0      0  "
            ]
          },
          "execution_count": 10,
          "metadata": {},
          "output_type": "execute_result"
        }
      ],
      "source": [
        "# addint the target variable back to the dataframe\n",
        "df[\"Class\"] = dataset[\"Class\"]\n",
        "dataset = df\n",
        "dataset.head()"
      ]
    },
    {
      "cell_type": "markdown",
      "id": "e6ba663c",
      "metadata": {
        "id": "e6ba663c"
      },
      "source": [
        "### Splitting the dataset into Training set and Test set"
      ]
    },
    {
      "cell_type": "code",
      "execution_count": null,
      "id": "009156b7",
      "metadata": {
        "id": "009156b7"
      },
      "outputs": [],
      "source": [
        "# Splitting the dataset into the Training set and Test set\n",
        "X = dataset.iloc[:,:-1]\n",
        "y = dataset.iloc[:,-1]\n",
        "\n",
        "X_train, X_test, y_train, y_test = train_test_split(X, y, test_size = 0.3, random_state = 5)"
      ]
    },
    {
      "cell_type": "markdown",
      "id": "0efed992",
      "metadata": {
        "id": "0efed992"
      },
      "source": [
        "### Scaling the dataset using Standard Scaler"
      ]
    },
    {
      "cell_type": "code",
      "execution_count": null,
      "id": "b97fcd82",
      "metadata": {
        "id": "b97fcd82"
      },
      "outputs": [],
      "source": [
        "\"\"\"\n",
        "    The scaler is used to fit and transform the training\n",
        "    features but is only used to transform the test features\n",
        "\"\"\"\n",
        "scaler = StandardScaler()\n",
        "X_train = scaler.fit_transform(X_train)\n",
        "X_test = scaler.transform(X_test)"
      ]
    },
    {
      "cell_type": "markdown",
      "id": "6122160c",
      "metadata": {
        "id": "6122160c"
      },
      "source": [
        "### Logistic Regression Model"
      ]
    },
    {
      "cell_type": "code",
      "execution_count": null,
      "id": "cc102d42",
      "metadata": {
        "id": "cc102d42",
        "outputId": "4c057f70-03de-4248-d1b3-30478351b047"
      },
      "outputs": [
        {
          "data": {
            "text/plain": [
              "LogisticRegression(random_state=0)"
            ]
          },
          "execution_count": 13,
          "metadata": {},
          "output_type": "execute_result"
        }
      ],
      "source": [
        "# Building the Model\n",
        "Log_classifier = LogisticRegression(random_state = 0)\n",
        "Log_classifier.fit(X_train, y_train)"
      ]
    },
    {
      "cell_type": "code",
      "execution_count": null,
      "id": "d0904c1e",
      "metadata": {
        "id": "d0904c1e",
        "outputId": "bb4547cb-0384-41c6-c661-4ef60c369700"
      },
      "outputs": [
        {
          "data": {
            "text/plain": [
              "array([[ 1.82703054,  0.75338898,  1.5974275 , -0.24530023, -2.69490499,\n",
              "        -0.88538669,  0.02804643, -1.16447434,  1.36732457, -0.14356288,\n",
              "         0.14549114, -0.14549114,  0.21123434, -0.21123434]])"
            ]
          },
          "execution_count": 14,
          "metadata": {},
          "output_type": "execute_result"
        }
      ],
      "source": [
        "# Checking the coefficient\n",
        "Log_classifier.coef_"
      ]
    },
    {
      "cell_type": "code",
      "execution_count": null,
      "id": "fe2cad69",
      "metadata": {
        "id": "fe2cad69",
        "outputId": "46cedbd1-35fc-4c11-c424-4681179c0634"
      },
      "outputs": [
        {
          "data": {
            "text/plain": [
              "array([-1.03038644])"
            ]
          },
          "execution_count": 15,
          "metadata": {},
          "output_type": "execute_result"
        }
      ],
      "source": [
        "# Checking the intercept\n",
        "Log_classifier.intercept_"
      ]
    },
    {
      "cell_type": "code",
      "execution_count": null,
      "id": "aa82b724",
      "metadata": {
        "id": "aa82b724",
        "outputId": "4d16ca1d-59ff-4d4c-e9cf-7e9e9c48582b"
      },
      "outputs": [
        {
          "name": "stdout",
          "output_type": "stream",
          "text": [
            "The Logistic Regression model training accuracy is:  91.79 %\n"
          ]
        }
      ],
      "source": [
        "# Checking the training accuracy\n",
        "y_pred_train = Log_classifier.predict(X_train)\n",
        "accuracy1 = accuracy_score(y_train, y_pred_train)\n",
        "print(\"The Logistic Regression model training accuracy is: \",round(accuracy1 * 100, 2),\"%\")"
      ]
    },
    {
      "cell_type": "code",
      "execution_count": null,
      "id": "74582b91",
      "metadata": {
        "id": "74582b91",
        "outputId": "2d1c4479-08ff-4966-a1d1-8ab280418e36"
      },
      "outputs": [
        {
          "name": "stdout",
          "output_type": "stream",
          "text": [
            "The Logistic Regression model test accuracy is:  88.33 %\n"
          ]
        }
      ],
      "source": [
        "# Checking the test accuracy\n",
        "y_pred = Log_classifier.predict(X_test)\n",
        "accuracy1 = accuracy_score(y_test, y_pred)\n",
        "print(\"The Logistic Regression model test accuracy is: \",round(accuracy1 * 100, 2),\"%\")"
      ]
    },
    {
      "cell_type": "markdown",
      "id": "4e58acec",
      "metadata": {
        "id": "4e58acec"
      },
      "source": [
        "The Logistic regression model has a 91.79% training accuracy and 88.33% test accuracy"
      ]
    },
    {
      "cell_type": "markdown",
      "id": "468e564c",
      "metadata": {
        "id": "468e564c"
      },
      "source": [
        "### Using K Nearest Neighbors Classifier"
      ]
    },
    {
      "cell_type": "code",
      "execution_count": null,
      "id": "393eaa59",
      "metadata": {
        "id": "393eaa59",
        "outputId": "6bbee78b-33d9-44da-a602-f78b24795950"
      },
      "outputs": [
        {
          "data": {
            "text/plain": [
              "KNeighborsClassifier()"
            ]
          },
          "execution_count": 18,
          "metadata": {},
          "output_type": "execute_result"
        }
      ],
      "source": [
        "# Using Default KNN Classifier\n",
        "KNN_classifier = KNeighborsClassifier()\n",
        "KNN_classifier.fit(X_train,y_train)"
      ]
    },
    {
      "cell_type": "code",
      "execution_count": null,
      "id": "82db7645",
      "metadata": {
        "id": "82db7645",
        "outputId": "bed4432c-0bd1-4dad-d27a-896c79f4db07"
      },
      "outputs": [
        {
          "name": "stdout",
          "output_type": "stream",
          "text": [
            "The default KNN model training accuracy is:  83.93 %\n"
          ]
        }
      ],
      "source": [
        "# Checking the training accuracy\n",
        "y_pred_train = KNN_classifier.predict(X_train)\n",
        "accuracy2 = accuracy_score(y_train, y_pred_train)\n",
        "print(\"The default KNN model training accuracy is: \",round(accuracy2 * 100, 2),\"%\")"
      ]
    },
    {
      "cell_type": "code",
      "execution_count": null,
      "id": "d9b7b3b1",
      "metadata": {
        "id": "d9b7b3b1",
        "outputId": "0d9abf40-fc8f-4858-e09f-3ffe2a5b2a62"
      },
      "outputs": [
        {
          "name": "stdout",
          "output_type": "stream",
          "text": [
            "The default KNN model test accuracy is:  64.17 %\n"
          ]
        }
      ],
      "source": [
        "# Checking the test accuracy\n",
        "y_pred = KNN_classifier.predict(X_test)\n",
        "accuracy2 = accuracy_score(y_test, y_pred)\n",
        "print(\"The default KNN model test accuracy is: \",round(accuracy2 * 100, 2),\"%\")"
      ]
    },
    {
      "cell_type": "markdown",
      "id": "15682aa3",
      "metadata": {
        "id": "15682aa3"
      },
      "source": [
        "The default KNN model has an 83.93% training accuracy and 64.17% test accuracy which is worse than the Logistic Regression model"
      ]
    },
    {
      "cell_type": "markdown",
      "id": "be8128f4",
      "metadata": {
        "id": "be8128f4"
      },
      "source": [
        "#### Finding Optimal Value of K with Cross Validation"
      ]
    },
    {
      "cell_type": "code",
      "execution_count": null,
      "id": "c2fd5e33",
      "metadata": {
        "id": "c2fd5e33"
      },
      "outputs": [],
      "source": [
        "# performing 5 fold cross validation on the different polynomial degrees of features\n",
        "k_values = [3, 5, 7, 10, 15, 20, 25, 30]\n",
        "KNN_models = []\n",
        "\n",
        "for k in k_values:\n",
        "    KNN_CV = cross_validate(KNeighborsClassifier(n_neighbors = k), X_train, y_train, cv=5, scoring='accuracy')\n",
        "    KNN_models.append(KNN_CV)"
      ]
    },
    {
      "cell_type": "markdown",
      "id": "042b9c0d",
      "metadata": {
        "id": "042b9c0d"
      },
      "source": [
        "#### Evaluating the cross validation model performances"
      ]
    },
    {
      "cell_type": "code",
      "execution_count": null,
      "id": "ece2a2a5",
      "metadata": {
        "id": "ece2a2a5",
        "outputId": "13bcbb46-1479-43f9-ee8d-4b17b2222579"
      },
      "outputs": [
        {
          "name": "stdout",
          "output_type": "stream",
          "text": [
            "Model 1 (k = 3 ):  [0.86 0.7  0.73 0.73 0.8 ] Average: 0.7643\n",
            "Model 2 (k = 5 ):  [0.79 0.66 0.79 0.71 0.79] Average: 0.7464\n",
            "Model 3 (k = 7 ):  [0.75 0.75 0.75 0.71 0.77] Average: 0.7464\n",
            "Model 4 (k = 10 ):  [0.79 0.71 0.79 0.73 0.77] Average: 0.7571\n",
            "Model 5 (k = 15 ):  [0.8  0.71 0.84 0.75 0.77] Average: 0.775\n",
            "Model 6 (k = 20 ):  [0.8  0.73 0.84 0.73 0.71] Average: 0.7643\n",
            "Model 7 (k = 25 ):  [0.8  0.75 0.8  0.71 0.73] Average: 0.7607\n",
            "Model 8 (k = 30 ):  [0.8  0.75 0.84 0.71 0.71] Average: 0.7643\n"
          ]
        }
      ],
      "source": [
        "average_accuracies = []\n",
        "for i in range(len(KNN_models)):\n",
        "    result = KNN_models[i][\"test_score\"]\n",
        "    average_accuracies.append(round(result.mean(), 4))\n",
        "    print(\"Model\", i+1,\"(k =\", k_values[i], \"): \", result.round(2), \"Average:\", round(result.mean(), 4))"
      ]
    },
    {
      "cell_type": "markdown",
      "id": "4dafa6f4",
      "metadata": {
        "id": "4dafa6f4"
      },
      "source": [
        "#### Selecting the best model based on average cross validation accuracy score"
      ]
    },
    {
      "cell_type": "code",
      "execution_count": null,
      "id": "e854f6b5",
      "metadata": {
        "id": "e854f6b5",
        "outputId": "cecec4a6-245e-4b3c-c07c-c06001e28830"
      },
      "outputs": [
        {
          "data": {
            "image/png": "[encoded data removed]",
            "text/plain": [
              "<Figure size 432x288 with 1 Axes>"
            ]
          },
          "metadata": {
            "needs_background": "light"
          },
          "output_type": "display_data"
        }
      ],
      "source": [
        "plt.plot(k_values, average_accuracies)\n",
        "plt.show()"
      ]
    },
    {
      "cell_type": "markdown",
      "id": "10f44702",
      "metadata": {
        "id": "10f44702"
      },
      "source": [
        "From the values average cross validation accuracies above and the optimal K plot, we can see that the optimal value of k is 15"
      ]
    },
    {
      "cell_type": "markdown",
      "id": "02fa4a7c",
      "metadata": {
        "id": "02fa4a7c"
      },
      "source": [
        "#### Refitting KNN with k = 15 on the entire training set"
      ]
    },
    {
      "cell_type": "code",
      "execution_count": null,
      "id": "7532429e",
      "metadata": {
        "id": "7532429e",
        "outputId": "469b8cc4-0368-46a0-8f39-c876c012de94"
      },
      "outputs": [
        {
          "data": {
            "text/plain": [
              "KNeighborsClassifier(n_neighbors=15)"
            ]
          },
          "execution_count": 24,
          "metadata": {},
          "output_type": "execute_result"
        }
      ],
      "source": [
        "# Using Default KNN Classifier\n",
        "KNN_classifier = KNeighborsClassifier(n_neighbors = 15)\n",
        "KNN_classifier.fit(X_train,y_train)"
      ]
    },
    {
      "cell_type": "code",
      "execution_count": null,
      "id": "5d0be7fd",
      "metadata": {
        "id": "5d0be7fd",
        "outputId": "ed7dd871-bd15-49fd-8b5b-9267715f3eba"
      },
      "outputs": [
        {
          "name": "stdout",
          "output_type": "stream",
          "text": [
            "The optimal KNN model training accuracy is:  81.43 %\n"
          ]
        }
      ],
      "source": [
        "# Checking the training accuracy\n",
        "y_pred_train = KNN_classifier.predict(X_train)\n",
        "accuracy3 = accuracy_score(y_train, y_pred_train)\n",
        "print(\"The optimal KNN model training accuracy is: \",round(accuracy3 * 100, 2),\"%\")"
      ]
    },
    {
      "cell_type": "code",
      "execution_count": null,
      "id": "cfa26c5d",
      "metadata": {
        "id": "cfa26c5d",
        "outputId": "ac77e37e-4b5a-4700-b638-b5ac47558ec8"
      },
      "outputs": [
        {
          "name": "stdout",
          "output_type": "stream",
          "text": [
            "The optimal KNN model test accuracy is:  67.5 %\n"
          ]
        }
      ],
      "source": [
        "# Checking the test accuracy\n",
        "y_pred = KNN_classifier.predict(X_test)\n",
        "accuracy3 = accuracy_score(y_test, y_pred)\n",
        "print(\"The optimal KNN model test accuracy is: \",round(accuracy3 * 100, 2),\"%\")"
      ]
    },
    {
      "cell_type": "markdown",
      "id": "60af3465",
      "metadata": {
        "id": "60af3465"
      },
      "source": [
        "The optimal KNN model has an 81.43% training accuracy and 67.5% test accuracy which is still worse than the Logistic Regression model"
      ]
    },
    {
      "cell_type": "markdown",
      "id": "3dccdd32",
      "metadata": {
        "id": "3dccdd32"
      },
      "source": [
        "### Conclusion / Comments"
      ]
    },
    {
      "cell_type": "markdown",
      "id": "2eb01b58",
      "metadata": {
        "id": "2eb01b58"
      },
      "source": [
        "**Training Set**\n",
        "\n",
        "| Model  | Accuracy |\n",
        "| --- | --- |\n",
        "|  Logistic Regression  | **91.79** |\n",
        "|  Default KNN (k = 5)  | 83.93 |\n",
        "|  Optimal KNN (k = 15)  | 81.43 |\n",
        "\n",
        "\n",
        "**Test Set**\n",
        "\n",
        "| Model  | Accuracy |\n",
        "| --- | --- |\n",
        "|  Logistic Regression  | **88.33** |\n",
        "|  Default KNN (k = 5)  | 64.17 |\n",
        "|  Optimal KNN (k = 15)  | 67.5 |\n",
        "\n",
        "<br>\n",
        "<br>\n",
        "<br>\n",
        "The logistic regression model outperformed the KNN classification models on this dataset. It had a higher training and testing accuracy.\n",
        "The default KNN model performed better than the optimal KNN on the training set but was it had the least accuracy on the test set which makes the optimal KNN model a better model that the default KNN model as it has lower generalization error (i.e performs better on previously unseen data)."
      ]
    },
    {
      "cell_type": "code",
      "execution_count": null,
      "id": "affb2657",
      "metadata": {
        "id": "affb2657"
      },
      "outputs": [],
      "source": []
    }
  ],
  "metadata": {
    "kernelspec": {
      "display_name": "Python 3",
      "language": "python",
      "name": "python3"
    },
    "language_info": {
      "codemirror_mode": {
        "name": "ipython",
        "version": 3
      },
      "file_extension": ".py",
      "mimetype": "text/x-python",
      "name": "python",
      "nbconvert_exporter": "python",
      "pygments_lexer": "ipython3",
      "version": "3.8.8"
    },
    "colab": {
      "provenance": [],
      "toc_visible": true,
      "include_colab_link": true
    }
  },
  "nbformat": 4,
  "nbformat_minor": 5
}